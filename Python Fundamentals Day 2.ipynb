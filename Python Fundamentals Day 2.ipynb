{
 "cells": [
  {
   "cell_type": "markdown",
   "metadata": {
    "slideshow": {
     "slide_type": "slide"
    }
   },
   "source": [
    "# Day 2"
   ]
  },
  {
   "cell_type": "markdown",
   "metadata": {
    "slideshow": {
     "slide_type": "subslide"
    }
   },
   "source": [
    "## Day 2 Agenda\n",
    "* __`enumerate()/zip()`__\n",
    "* list comprehensions\n",
    "* tuples\n",
    "* dictionaries\n",
    "* explaining __`this.py`__\n",
    "* sets\n",
    "* file I/O"
   ]
  },
  {
   "cell_type": "markdown",
   "metadata": {
    "slideshow": {
     "slide_type": "subslide"
    }
   },
   "source": [
    "## \"Pythonic\""
   ]
  },
  {
   "cell_type": "code",
   "execution_count": 1,
   "metadata": {},
   "outputs": [],
   "source": [
    "stooges = ['Shemp', 'Moe', 'Larry', 'Curly']"
   ]
  },
  {
   "cell_type": "code",
   "execution_count": 4,
   "metadata": {
    "tags": []
   },
   "outputs": [
    {
     "name": "stdout",
     "output_type": "stream",
     "text": [
      "index 0 is Shemp\n",
      "index 1 is Moe\n",
      "index 2 is Larry\n",
      "index 3 is Curly\n"
     ]
    }
   ],
   "source": [
    "i = 0\n",
    "for stooge in stooges: # for thing in container\n",
    "    print(f'index {i} is {stooge}')\n",
    "    i += 1"
   ]
  },
  {
   "cell_type": "markdown",
   "metadata": {
    "slideshow": {
     "slide_type": "subslide"
    }
   },
   "source": [
    "## __`enumerate()`__\n",
    "* a builtin function which associates an index with each item in an iterable\n",
    "* returns an _enumerate_ object\n"
   ]
  },
  {
   "cell_type": "code",
   "execution_count": 8,
   "metadata": {
    "tags": []
   },
   "outputs": [
    {
     "name": "stdout",
     "output_type": "stream",
     "text": [
      "stooge 0 is Shemp\n",
      "stooge 1 is Moe\n",
      "stooge 2 is Larry\n",
      "stooge 3 is Curly\n"
     ]
    }
   ],
   "source": [
    "for index, stooge in enumerate(stooges):\n",
    "    print(f'stooge {index} is {stooge}')"
   ]
  },
  {
   "cell_type": "code",
   "execution_count": 9,
   "metadata": {},
   "outputs": [
    {
     "data": {
      "text/plain": [
       "enumerate"
      ]
     },
     "execution_count": 9,
     "metadata": {},
     "output_type": "execute_result"
    }
   ],
   "source": [
    "type(enumerate(stooges))"
   ]
  },
  {
   "cell_type": "markdown",
   "metadata": {
    "slideshow": {
     "slide_type": "subslide"
    }
   },
   "source": [
    "## __`zip(*iterables)`__ # 0 or more containers\n",
    "* builtin function which matches up each item in an iterable with the corresponding item in the other iterable(s)\n",
    "* technically creates an iterator that aggregates elements from each iterable\n",
    "* why is it called __`zip`__?"
   ]
  },
  {
   "cell_type": "code",
   "execution_count": 10,
   "metadata": {
    "tags": []
   },
   "outputs": [
    {
     "name": "stdout",
     "output_type": "stream",
     "text": [
      "Dave W-S 3456\n",
      "Bruce Lee 1\n",
      "Taylor Swift 2\n"
     ]
    }
   ],
   "source": [
    "first_names = ['Dave', 'Bruce', 'Taylor']\n",
    "last_names = ['W-S', 'Lee', 'Swift']\n",
    "employee_nums = [3456, 1, 2]\n",
    "\n",
    "for first, last, num in zip(first_names, last_names, employee_nums):\n",
    "    print(first, last, num)"
   ]
  },
  {
   "cell_type": "code",
   "execution_count": 11,
   "metadata": {
    "tags": []
   },
   "outputs": [
    {
     "name": "stdout",
     "output_type": "stream",
     "text": [
      "Larry Groucho\n",
      "Moe Harpo\n",
      "Curly Chico\n"
     ]
    }
   ],
   "source": [
    "stooges = ['Larry', 'Moe', 'Curly']\n",
    "marxbros = ['Groucho', 'Harpo', 'Chico', 'Zeppo']\n",
    "for stooge, marx in zip(stooges, marxbros):\n",
    "    print(stooge, marx)"
   ]
  },
  {
   "cell_type": "code",
   "execution_count": 14,
   "metadata": {
    "scrolled": false,
    "tags": []
   },
   "outputs": [
    {
     "name": "stdout",
     "output_type": "stream",
     "text": [
      "Larry Groucho\n",
      "Moe Harpo\n",
      "Curly Chico\n",
      "None Zeppo\n"
     ]
    }
   ],
   "source": [
    "from itertools import zip_longest # module that helps with iteration\n",
    "stooges = ['Larry', 'Moe', 'Curly']\n",
    "marxbros = ['Groucho', 'Harpo', 'Chico', 'Zeppo']\n",
    "\n",
    "for stooge, marx in zip_longest(stooges, marxbros):\n",
    "    print(stooge, marx)"
   ]
  },
  {
   "cell_type": "markdown",
   "metadata": {
    "slideshow": {
     "slide_type": "slide"
    }
   },
   "source": [
    "# List Comprehensions"
   ]
  },
  {
   "cell_type": "markdown",
   "metadata": {
    "slideshow": {
     "slide_type": "subslide"
    }
   },
   "source": [
    "## List Comprehensions (\"listcomps\")\n",
    "* quick/compact way to build a list\n",
    "* more readable/faster\n",
    "* which is easier to read?"
   ]
  },
  {
   "cell_type": "code",
   "execution_count": 15,
   "metadata": {},
   "outputs": [],
   "source": [
    "fruits = 'apple lemon cherry fig lime watermelon'.split() # Pythonic"
   ]
  },
  {
   "cell_type": "code",
   "execution_count": 16,
   "metadata": {},
   "outputs": [
    {
     "name": "stdout",
     "output_type": "stream",
     "text": [
      "[5, 5, 6, 3, 4, 10]\n"
     ]
    }
   ],
   "source": [
    "fruit_lengths = []\n",
    "\n",
    "for fruit in fruits:\n",
    "    fruit_lengths.append(len(fruit))\n",
    "    \n",
    "print(fruit_lengths)"
   ]
  },
  {
   "cell_type": "code",
   "execution_count": 17,
   "metadata": {
    "scrolled": true
   },
   "outputs": [
    {
     "name": "stdout",
     "output_type": "stream",
     "text": [
      "[5, 5, 6, 3, 4, 10]\n"
     ]
    }
   ],
   "source": [
    "fruit_lengths = [len(fruit) for fruit in fruits]\n",
    "\n",
    "print(fruit_lengths)"
   ]
  },
  {
   "cell_type": "markdown",
   "metadata": {
    "slideshow": {
     "slide_type": "subslide"
    }
   },
   "source": [
    "## List Comprehensions (cont'd)\n",
    "* listcomps can generate a list from the Cartesian product of two or more iterables"
   ]
  },
  {
   "cell_type": "code",
   "execution_count": 19,
   "metadata": {},
   "outputs": [],
   "source": [
    "colors = ['black', 'white']\n",
    "sizes = ['S', 'M', 'L', 'XL']"
   ]
  },
  {
   "cell_type": "code",
   "execution_count": 21,
   "metadata": {},
   "outputs": [
    {
     "data": {
      "text/plain": [
       "[['black', 'S'],\n",
       " ['black', 'M'],\n",
       " ['black', 'L'],\n",
       " ['black', 'XL'],\n",
       " ['white', 'S'],\n",
       " ['white', 'M'],\n",
       " ['white', 'L'],\n",
       " ['white', 'XL']]"
      ]
     },
     "execution_count": 21,
     "metadata": {},
     "output_type": "execute_result"
    }
   ],
   "source": [
    "tshirts = [[color, size] for color in colors\n",
    "                            for size in sizes]\n",
    "tshirts"
   ]
  },
  {
   "cell_type": "code",
   "execution_count": 23,
   "metadata": {},
   "outputs": [],
   "source": [
    "string = 'alphabet soup tastes great!'"
   ]
  },
  {
   "cell_type": "code",
   "execution_count": 24,
   "metadata": {},
   "outputs": [
    {
     "name": "stdout",
     "output_type": "stream",
     "text": [
      "['a', 'l', 'p', 'h', 'a', 'b', 'e', 't', ' ', 's', 'o', 'u', 'p', ' ', 't', 'a', 's', 't', 'e', 's', ' ', 'g', 'r', 'e', 'a', 't', '!']\n"
     ]
    }
   ],
   "source": [
    "print(list(string))"
   ]
  },
  {
   "cell_type": "code",
   "execution_count": 26,
   "metadata": {},
   "outputs": [
    {
     "name": "stdout",
     "output_type": "stream",
     "text": [
      "['l', 'p', 'h', 'b', 't', 's', 'p', 't', 's', 't', 's', 'g', 'r', 't', '!']\n"
     ]
    }
   ],
   "source": [
    "# generate a list of all the consonants in a\n",
    "# string, discarding vowels and spaces\n",
    "\n",
    "consonants = [char for char in string\n",
    "                       if char not in 'aeiou ']\n",
    "print(consonants)"
   ]
  },
  {
   "cell_type": "markdown",
   "metadata": {
    "slideshow": {
     "slide_type": "subslide"
    }
   },
   "source": [
    "## Lab: List Comprehensions\n",
    "*  Start with Cartesian product example (colors x sizes of t-shirts) and add a third list, __`sleeves = ['short', 'long']`__ then write a new listcomp which generates the Cartesian product __`colors x sizes x sleeves`__. __`tshirts`__ should look like this:<pre><b>\n",
    "    [['black', 'S', 'short'],\n",
    "     ['black', 'S', 'long'],\n",
    "     ['black', 'M', 'short'],\n",
    "     ['black', 'M', 'long'],\n",
    "     ['black', 'L', 'short'],\n",
    "     ['black', 'L', 'long'],\n",
    "     ['white', 'S', 'short'],\n",
    "     ['white', 'S', 'long'],\n",
    "     ['white', 'M', 'short'],\n",
    "     ['white', 'M', 'long'],\n",
    "     ['white', 'L', 'short'],\n",
    "     ['white', 'L', 'long']]\n",
    "     \n",
    " </b></pre>\n",
    "* Use a list comprehension to create a list of the squares of the integers from 1 to 25 (i.e, 1, 4, 9, 16, …, 625)\n",
    "* Given a list of words, create a second list which contains all the words from the first list which do not end with a vowel\n",
    "* Use a list comprehension to create a list of the integers from 1 to 100 which are not divisible by 5\n",
    "* Use a list comprehension and __`zip()`__ to create a list of lists, where the list items are name and ID number that you grabbed from separate lists of names and ID numbers\n",
    "  * start with a list of, say, 5 names ['John', 'Mary', 'Edward', 'Linda', 'Dinesh']\n",
    "  * and a list of, say, 5 ID numbers [1003, 2043, 8762, 7862, 1093]\n",
    "  * additional wrinkle: do not include any names whose corresponding ID is -1"
   ]
  },
  {
   "cell_type": "markdown",
   "metadata": {
    "slideshow": {
     "slide_type": "subslide"
    }
   },
   "source": [
    "## listcomps recap\n",
    "* keep them short\n",
    "* they are not _list incomprehensions_, so keep them simple\n",
    "* use line breaks since they are ignored inside [] (and (), {}) and you therefore don't need the ugly '\\\\' line continuation character\n",
    "* note that __`for`__ loops do many things (e.g., scan a sequence to count or select items), computing aggregates (sum, averages) or any number of other processing tasks\n",
    "  * in contrast, listcomps do ONE thing–generate lists!"
   ]
  },
  {
   "cell_type": "markdown",
   "metadata": {
    "slideshow": {
     "slide_type": "slide"
    }
   },
   "source": [
    "# Tuples"
   ]
  },
  {
   "cell_type": "markdown",
   "metadata": {
    "slideshow": {
     "slide_type": "subslide"
    }
   },
   "source": [
    "## Tuples\n",
    "* immutable data type\n",
    "* typically heterogeneous (cf. lists)\n",
    "* generally imply some structure\n",
    " * tuples typically represent a single object, but multiple aspects/attributes of it\n",
    " * if lists are typically used like the columns of a spreadsheet...\n",
    "   * then tuples are typically the rows..."
   ]
  },
  {
   "cell_type": "code",
   "execution_count": 40,
   "metadata": {},
   "outputs": [
    {
     "ename": "SyntaxError",
     "evalue": "invalid syntax (<ipython-input-40-f446e74bb837>, line 1)",
     "output_type": "error",
     "traceback": [
      "\u001b[0;36m  File \u001b[0;32m\"<ipython-input-40-f446e74bb837>\"\u001b[0;36m, line \u001b[0;32m1\u001b[0m\n\u001b[0;31m    t = #() # empty tuple (cf. empty list...[])\u001b[0m\n\u001b[0m        ^\u001b[0m\n\u001b[0;31mSyntaxError\u001b[0m\u001b[0;31m:\u001b[0m invalid syntax\n"
     ]
    }
   ],
   "source": [
    "t = () # empty tuple (cf. empty list...[])\n",
    "t"
   ]
  },
  {
   "cell_type": "code",
   "execution_count": 28,
   "metadata": {},
   "outputs": [
    {
     "data": {
      "text/plain": [
       "tuple"
      ]
     },
     "execution_count": 28,
     "metadata": {},
     "output_type": "execute_result"
    }
   ],
   "source": [
    "type(t)"
   ]
  },
  {
   "cell_type": "code",
   "execution_count": 38,
   "metadata": {},
   "outputs": [],
   "source": [
    "t = (1,) # singleton tuple"
   ]
  },
  {
   "cell_type": "code",
   "execution_count": 39,
   "metadata": {},
   "outputs": [
    {
     "data": {
      "text/plain": [
       "(1,)"
      ]
     },
     "execution_count": 39,
     "metadata": {},
     "output_type": "execute_result"
    }
   ],
   "source": [
    "t"
   ]
  },
  {
   "cell_type": "code",
   "execution_count": 41,
   "metadata": {},
   "outputs": [
    {
     "data": {
      "text/plain": [
       "('Jones', 'John', 1023, True)"
      ]
     },
     "execution_count": 41,
     "metadata": {},
     "output_type": "execute_result"
    }
   ],
   "source": [
    "t = 'Jones', 'John', 1023, True # no parens\n",
    "t"
   ]
  },
  {
   "cell_type": "code",
   "execution_count": 45,
   "metadata": {},
   "outputs": [],
   "source": [
    "# tuple unpacking\n",
    "last_name, first_name, employee_num, full_time = t"
   ]
  },
  {
   "cell_type": "code",
   "execution_count": 46,
   "metadata": {},
   "outputs": [
    {
     "data": {
      "text/plain": [
       "1023"
      ]
     },
     "execution_count": 46,
     "metadata": {},
     "output_type": "execute_result"
    }
   ],
   "source": [
    "employee_num # type(employee_num)"
   ]
  },
  {
   "cell_type": "code",
   "execution_count": 48,
   "metadata": {},
   "outputs": [
    {
     "name": "stdout",
     "output_type": "stream",
     "text": [
      "Enter something: apple fig poear\n"
     ]
    }
   ],
   "source": [
    "something = input('Enter something: ')\n",
    "as_a_list = something.split() # split() always returns a list\n",
    "as_a_tuple = tuple(as_a_list) # tuple() always returns a tuple"
   ]
  },
  {
   "cell_type": "code",
   "execution_count": 49,
   "metadata": {},
   "outputs": [
    {
     "name": "stdout",
     "output_type": "stream",
     "text": [
      "['apple', 'fig', 'poear']\n",
      "('apple', 'fig', 'poear')\n"
     ]
    }
   ],
   "source": [
    "print(as_a_list, as_a_tuple, sep='\\n')"
   ]
  },
  {
   "cell_type": "code",
   "execution_count": 50,
   "metadata": {},
   "outputs": [],
   "source": [
    "person = 'Sara Breedlove', 1867, 'Louisiana'"
   ]
  },
  {
   "cell_type": "code",
   "execution_count": 51,
   "metadata": {},
   "outputs": [
    {
     "data": {
      "text/plain": [
       "1867"
      ]
     },
     "execution_count": 51,
     "metadata": {},
     "output_type": "execute_result"
    }
   ],
   "source": [
    "person[1]"
   ]
  },
  {
   "cell_type": "code",
   "execution_count": 52,
   "metadata": {},
   "outputs": [
    {
     "ename": "TypeError",
     "evalue": "'tuple' object does not support item assignment",
     "output_type": "error",
     "traceback": [
      "\u001b[0;31m---------------------------------------------------------------------------\u001b[0m",
      "\u001b[0;31mTypeError\u001b[0m                                 Traceback (most recent call last)",
      "\u001b[0;32m<ipython-input-52-9e1649546955>\u001b[0m in \u001b[0;36m<module>\u001b[0;34m\u001b[0m\n\u001b[0;32m----> 1\u001b[0;31m \u001b[0mperson\u001b[0m\u001b[0;34m[\u001b[0m\u001b[0;36m1\u001b[0m\u001b[0;34m]\u001b[0m \u001b[0;34m=\u001b[0m \u001b[0;36m1868\u001b[0m\u001b[0;34m\u001b[0m\u001b[0;34m\u001b[0m\u001b[0m\n\u001b[0m",
      "\u001b[0;31mTypeError\u001b[0m: 'tuple' object does not support item assignment"
     ]
    }
   ],
   "source": [
    "person[1] = 1868"
   ]
  },
  {
   "cell_type": "code",
   "execution_count": 53,
   "metadata": {
    "slideshow": {
     "slide_type": "subslide"
    }
   },
   "outputs": [
    {
     "data": {
      "text/plain": [
       "('Curie', 'Marie', 1867, [])"
      ]
     },
     "execution_count": 53,
     "metadata": {},
     "output_type": "execute_result"
    }
   ],
   "source": [
    "# a tuple may contain a mutable object...\n",
    "\n",
    "person = 'Curie', 'Marie', 1867, []\n",
    "person"
   ]
  },
  {
   "cell_type": "code",
   "execution_count": 54,
   "metadata": {},
   "outputs": [],
   "source": [
    "person[-1].extend('physicist chemist'.split())"
   ]
  },
  {
   "cell_type": "markdown",
   "metadata": {
    "slideshow": {
     "slide_type": "subslide"
    }
   },
   "source": [
    "## Lab: Tuples\n",
    "* Given a list of words, sort them by length of word, rather than alphabetically.\n",
    "* To do this, first create a list of tuples of the form (len, word), where the first element is the length of the word.\n",
    "* Next, sort the tuples.\n",
    "* Finally, extract the words from the list of tuples into a new list which is now sorted by length of word. Try to use a list comprehension if you can."
   ]
  },
  {
   "cell_type": "markdown",
   "metadata": {
    "slideshow": {
     "slide_type": "subslide"
    }
   },
   "source": [
    "## Recap: Tuples\n",
    "* not just \"constant lists\" \n",
    " (see http://jtauber.com/blog/2006/04/15/python_tuples_are_not_just_constant_lists)\n",
    "* remember that lists are (typically) ordered sequences of homogeneous values (i.e., Excel/DB column)\n",
    "* and tuples typically imply some structure and refer to multiple attributes of ONE item (person, country, building, etc.)\n",
    " * i.e., database/Excel row"
   ]
  },
  {
   "cell_type": "markdown",
   "metadata": {
    "slideshow": {
     "slide_type": "slide"
    }
   },
   "source": [
    "# Dictionaries\n"
   ]
  },
  {
   "cell_type": "markdown",
   "metadata": {
    "slideshow": {
     "slide_type": "subslide"
    }
   },
   "source": [
    "\n",
    "# Dictionaries\n",
    "* \"unordered\" grouping of key/value pairs\n",
    "* sometimes called a \"map\", \"hashmap\", or \"associative array\""
   ]
  },
  {
   "cell_type": "code",
   "execution_count": 64,
   "metadata": {},
   "outputs": [],
   "source": [
    "d = {} # empty dict"
   ]
  },
  {
   "cell_type": "code",
   "execution_count": 65,
   "metadata": {},
   "outputs": [],
   "source": [
    "d = { 'X': 10, 'V': 5, 'I': 1 } # can be initialized when declared"
   ]
  },
  {
   "cell_type": "code",
   "execution_count": 67,
   "metadata": {
    "tags": []
   },
   "outputs": [
    {
     "data": {
      "text/plain": [
       "{'X': 10, 'V': 5, 'I': 1}"
      ]
     },
     "execution_count": 67,
     "metadata": {},
     "output_type": "execute_result"
    }
   ],
   "source": [
    "d"
   ]
  },
  {
   "cell_type": "code",
   "execution_count": 68,
   "metadata": {
    "tags": []
   },
   "outputs": [
    {
     "name": "stdout",
     "output_type": "stream",
     "text": [
      "{'X': 10, 'V': 5, 'I': 1, 'L': 50}\n"
     ]
    }
   ],
   "source": [
    "d['L'] = 50 # add something to the dict\n",
    "print(d)"
   ]
  },
  {
   "cell_type": "code",
   "execution_count": 70,
   "metadata": {
    "tags": []
   },
   "outputs": [
    {
     "name": "stdout",
     "output_type": "stream",
     "text": [
      "X V I L "
     ]
    }
   ],
   "source": [
    "# iterating through a dict iterates through the keys \n",
    "for key in d: # for thing in container\n",
    "    print(key, end=' ')"
   ]
  },
  {
   "cell_type": "code",
   "execution_count": 71,
   "metadata": {
    "tags": []
   },
   "outputs": [
    {
     "name": "stdout",
     "output_type": "stream",
     "text": [
      "X 10\n",
      "V 5\n",
      "I 1\n",
      "L 50\n"
     ]
    }
   ],
   "source": [
    "# ...of course we can print the values while iterating\n",
    "for thing in d:\n",
    "    print(thing, d[thing])"
   ]
  },
  {
   "cell_type": "code",
   "execution_count": 78,
   "metadata": {
    "tags": []
   },
   "outputs": [
    {
     "name": "stdout",
     "output_type": "stream",
     "text": [
      "{'venti': 20, 'tall': 12, 'grande': 16}\n"
     ]
    }
   ],
   "source": [
    "sbux_dict = {'venti': 20, 'tall': 12, 'grande': 16}\n",
    "print(sbux_dict)"
   ]
  },
  {
   "cell_type": "code",
   "execution_count": 73,
   "metadata": {
    "scrolled": true,
    "tags": []
   },
   "outputs": [
    {
     "name": "stdout",
     "output_type": "stream",
     "text": [
      "dict_keys(['venti', 'tall', 'grande'])\n",
      "dict_values([20, 12, 16])\n",
      "dict_items([('venti', 20), ('tall', 12), ('grande', 16)])\n"
     ]
    }
   ],
   "source": [
    "print(sbux_dict.keys(), sbux_dict.values(),\n",
    "      sbux_dict.items(), sep='\\n')"
   ]
  },
  {
   "cell_type": "code",
   "execution_count": 74,
   "metadata": {},
   "outputs": [
    {
     "data": {
      "text/plain": [
       "48"
      ]
     },
     "execution_count": 74,
     "metadata": {},
     "output_type": "execute_result"
    }
   ],
   "source": [
    "total_ounces = 0\n",
    "for amount in sbux_dict.values():\n",
    "    total_ounces += amount\n",
    "\n",
    "total_ounces"
   ]
  },
  {
   "cell_type": "code",
   "execution_count": 75,
   "metadata": {},
   "outputs": [
    {
     "data": {
      "text/plain": [
       "48"
      ]
     },
     "execution_count": 75,
     "metadata": {},
     "output_type": "execute_result"
    }
   ],
   "source": [
    "sum(sbux_dict.values())"
   ]
  },
  {
   "cell_type": "markdown",
   "metadata": {
    "slideshow": {
     "slide_type": "subslide"
    }
   },
   "source": [
    "## Dictionaries: View Objects\n",
    "* __`keys()`__, __`values()`__, and __`items()`__ are view objects\n",
    "* view objects provide a dynamic window into the dictionary"
   ]
  },
  {
   "cell_type": "code",
   "execution_count": 79,
   "metadata": {},
   "outputs": [
    {
     "data": {
      "text/plain": [
       "dict_keys(['venti', 'tall', 'grande'])"
      ]
     },
     "execution_count": 79,
     "metadata": {},
     "output_type": "execute_result"
    }
   ],
   "source": [
    "keys = sbux_dict.keys()\n",
    "keys"
   ]
  },
  {
   "cell_type": "code",
   "execution_count": 80,
   "metadata": {},
   "outputs": [
    {
     "name": "stdout",
     "output_type": "stream",
     "text": [
      "dict_keys(['venti', 'tall', 'grande'])\n",
      "dict_keys(['venti', 'tall', 'grande', 'trenta'])\n"
     ]
    }
   ],
   "source": [
    "# keys will change automagically after we add to the dict\n",
    "print(keys)\n",
    "sbux_dict['trenta'] = 31\n",
    "print(keys)"
   ]
  },
  {
   "cell_type": "code",
   "execution_count": 77,
   "metadata": {},
   "outputs": [
    {
     "data": {
      "text/plain": [
       "dict_keys(['venti', 'tall', 'grande', 'trenta'])"
      ]
     },
     "execution_count": 77,
     "metadata": {},
     "output_type": "execute_result"
    }
   ],
   "source": [
    "keys"
   ]
  },
  {
   "cell_type": "markdown",
   "metadata": {
    "slideshow": {
     "slide_type": "subslide"
    }
   },
   "source": [
    "## Dictionaries: __`enumerate()`__\n",
    "* because dicts are unordered, __`enumerate()`__ isn't all that useful"
   ]
  },
  {
   "cell_type": "code",
   "execution_count": 81,
   "metadata": {},
   "outputs": [
    {
     "name": "stdout",
     "output_type": "stream",
     "text": [
      "venti\n",
      "tall\n",
      "grande\n",
      "trenta\n"
     ]
    }
   ],
   "source": [
    "for thing in sbux_dict: # dict iteration returns keys\n",
    "    print(thing)"
   ]
  },
  {
   "cell_type": "code",
   "execution_count": 82,
   "metadata": {},
   "outputs": [
    {
     "name": "stdout",
     "output_type": "stream",
     "text": [
      "index 0 is venti\n",
      "index 1 is tall\n",
      "index 2 is grande\n",
      "index 3 is trenta\n"
     ]
    }
   ],
   "source": [
    "for index, val in enumerate(sbux_dict):\n",
    "    print('index', index, 'is', val)"
   ]
  },
  {
   "cell_type": "code",
   "execution_count": 83,
   "metadata": {},
   "outputs": [
    {
     "name": "stdout",
     "output_type": "stream",
     "text": [
      "venti 20\n",
      "tall 12\n",
      "grande 16\n",
      "trenta 31\n"
     ]
    }
   ],
   "source": [
    "for thing in sbux_dict:\n",
    "    print(thing, sbux_dict[thing])"
   ]
  },
  {
   "cell_type": "code",
   "execution_count": 84,
   "metadata": {
    "scrolled": true
   },
   "outputs": [
    {
     "name": "stdout",
     "output_type": "stream",
     "text": [
      "venti => 20\n",
      "tall => 12\n",
      "grande => 16\n",
      "trenta => 31\n"
     ]
    }
   ],
   "source": [
    "# We can iterate through the dict items, but remember that dict\n",
    "# is unordered...\n",
    "for key, val in sbux_dict.items(): # tuple unpacking\n",
    "    print(key, '=>', val)"
   ]
  },
  {
   "cell_type": "markdown",
   "metadata": {
    "slideshow": {
     "slide_type": "subslide"
    }
   },
   "source": [
    "# __`get()`__/__`setdefault()`__: Dealing with missing dict values"
   ]
  },
  {
   "cell_type": "code",
   "execution_count": 91,
   "metadata": {},
   "outputs": [],
   "source": [
    "d = {'foo': 'bar'}"
   ]
  },
  {
   "cell_type": "code",
   "execution_count": 86,
   "metadata": {},
   "outputs": [
    {
     "data": {
      "text/plain": [
       "'bar'"
      ]
     },
     "execution_count": 86,
     "metadata": {},
     "output_type": "execute_result"
    }
   ],
   "source": [
    "d['foo']"
   ]
  },
  {
   "cell_type": "code",
   "execution_count": 87,
   "metadata": {},
   "outputs": [
    {
     "ename": "KeyError",
     "evalue": "'foot'",
     "output_type": "error",
     "traceback": [
      "\u001b[0;31m---------------------------------------------------------------------------\u001b[0m",
      "\u001b[0;31mKeyError\u001b[0m                                  Traceback (most recent call last)",
      "\u001b[0;32m<ipython-input-87-04add641cd15>\u001b[0m in \u001b[0;36m<module>\u001b[0;34m\u001b[0m\n\u001b[0;32m----> 1\u001b[0;31m \u001b[0md\u001b[0m\u001b[0;34m[\u001b[0m\u001b[0;34m'foot'\u001b[0m\u001b[0;34m]\u001b[0m\u001b[0;34m\u001b[0m\u001b[0;34m\u001b[0m\u001b[0m\n\u001b[0m",
      "\u001b[0;31mKeyError\u001b[0m: 'foot'"
     ]
    }
   ],
   "source": [
    "d['foot']"
   ]
  },
  {
   "cell_type": "code",
   "execution_count": 92,
   "metadata": {},
   "outputs": [],
   "source": [
    "if 'foot' in d: # is 'foot' a key in this dict\n",
    "    print(d['foot'])\n",
    "# or just... d.get('foot')"
   ]
  },
  {
   "cell_type": "code",
   "execution_count": 93,
   "metadata": {},
   "outputs": [
    {
     "name": "stdout",
     "output_type": "stream",
     "text": [
      "None\n"
     ]
    }
   ],
   "source": [
    "print(d.get('foot'))"
   ]
  },
  {
   "cell_type": "code",
   "execution_count": 94,
   "metadata": {},
   "outputs": [
    {
     "data": {
      "text/plain": [
       "'bar'"
      ]
     },
     "execution_count": 94,
     "metadata": {},
     "output_type": "execute_result"
    }
   ],
   "source": [
    "d.setdefault('foo', 23) # get the value of 'foo' or add 'foo' \n",
    "# to dict with value = 23\n",
    "# if 'foo' in d:\n",
    "#     return d['foo']\n",
    "# else:\n",
    "#     d['foo'] = 23\n",
    "#     return 23"
   ]
  },
  {
   "cell_type": "code",
   "execution_count": 95,
   "metadata": {},
   "outputs": [
    {
     "data": {
      "text/plain": [
       "{'foo': 'bar'}"
      ]
     },
     "execution_count": 95,
     "metadata": {},
     "output_type": "execute_result"
    }
   ],
   "source": [
    "d"
   ]
  },
  {
   "cell_type": "code",
   "execution_count": 96,
   "metadata": {},
   "outputs": [
    {
     "name": "stdout",
     "output_type": "stream",
     "text": [
      "23\n",
      "{'foo': 'bar', 'foot': 23}\n"
     ]
    }
   ],
   "source": [
    "print(d.setdefault('foot', 23))\n",
    "print(d)"
   ]
  },
  {
   "cell_type": "code",
   "execution_count": 99,
   "metadata": {},
   "outputs": [
    {
     "name": "stdout",
     "output_type": "stream",
     "text": [
      "grande 16\n",
      "tall 12\n",
      "trenta 31\n",
      "venti 20\n"
     ]
    }
   ],
   "source": [
    "# what if we sort a dict?\n",
    "for key in sorted(sbux_dict):\n",
    "    print(key, sbux_dict[key])"
   ]
  },
  {
   "cell_type": "code",
   "execution_count": 100,
   "metadata": {},
   "outputs": [
    {
     "name": "stdout",
     "output_type": "stream",
     "text": [
      "tall => 12\n",
      "grande => 16\n",
      "venti => 20\n",
      "trenta => 31\n"
     ]
    }
   ],
   "source": [
    "# In order to iterate in order, we have to sort the\n",
    "# dict by value (as opposed to key)\n",
    "# By default, sorted() will sort by key--\n",
    "# usually not what we want!\n",
    "\n",
    "for k in sorted(sbux_dict, key=sbux_dict.get):\n",
    "    print(k, '=>', sbux_dict[k])"
   ]
  },
  {
   "cell_type": "markdown",
   "metadata": {
    "slideshow": {
     "slide_type": "subslide"
    }
   },
   "source": [
    "## Removing items from a dict\n",
    "* __`del`__ = remove an item from the dict\n",
    "* __`dict.pop(key)`__ = remove item and return value\n",
    "* __`dict.clear()`__ = empty out the dict"
   ]
  },
  {
   "cell_type": "code",
   "execution_count": 105,
   "metadata": {},
   "outputs": [
    {
     "name": "stdout",
     "output_type": "stream",
     "text": [
      "{'trenta': 31, 'grande': 16, 'venti': 20, 'tall': 12}\n"
     ]
    }
   ],
   "source": [
    "mydict = {'trenta': 31, 'grande': 16, 'venti': 20,\n",
    "          'tall': 12}\n",
    "print(mydict)"
   ]
  },
  {
   "cell_type": "code",
   "execution_count": 106,
   "metadata": {},
   "outputs": [
    {
     "name": "stdout",
     "output_type": "stream",
     "text": [
      "{'grande': 16, 'venti': 20, 'tall': 12}\n"
     ]
    }
   ],
   "source": [
    "del mydict['trenta']\n",
    "print(mydict)"
   ]
  },
  {
   "cell_type": "code",
   "execution_count": 107,
   "metadata": {},
   "outputs": [
    {
     "name": "stdout",
     "output_type": "stream",
     "text": [
      "20\n"
     ]
    }
   ],
   "source": [
    "print(mydict.pop('venti'))"
   ]
  },
  {
   "cell_type": "code",
   "execution_count": 108,
   "metadata": {},
   "outputs": [
    {
     "name": "stdout",
     "output_type": "stream",
     "text": [
      "{'grande': 16, 'tall': 12}\n"
     ]
    }
   ],
   "source": [
    "print(mydict)"
   ]
  },
  {
   "cell_type": "code",
   "execution_count": 109,
   "metadata": {},
   "outputs": [
    {
     "data": {
      "text/plain": [
       "{}"
      ]
     },
     "execution_count": 109,
     "metadata": {},
     "output_type": "execute_result"
    }
   ],
   "source": [
    "mydict.clear()\n",
    "mydict"
   ]
  },
  {
   "cell_type": "markdown",
   "metadata": {
    "slideshow": {
     "slide_type": "subslide"
    }
   },
   "source": [
    "## Lab: dictionary\n",
    "* use a dict to translate Roman numerals into their Arabic equivalents\n",
    "1. load the dict with Roman numerals M (1000), D (500), C (100), L (50), X (10), V (5), I (1)\n",
    "2. read in a Roman numeral\n",
    "3. print Arabic equivalent\n",
    "4. try it with MCLX = 1000 + 100 + 50 + 10 = 1160\n",
    "4. __If you have time, deal with the case where a smaller number precedes a larger number, e.g., XC = 100 - 10 = 90, or MCM = 1000 + (1000-100) = 1900__\n",
    "4. __MCMXCIX = 1999__"
   ]
  },
  {
   "cell_type": "markdown",
   "metadata": {
    "slideshow": {
     "slide_type": "subslide"
    }
   },
   "source": [
    "## Dict Comprehension\n",
    "* like a listcomp, a dictcomp creates a dict quickly"
   ]
  },
  {
   "cell_type": "code",
   "execution_count": 110,
   "metadata": {},
   "outputs": [
    {
     "name": "stdout",
     "output_type": "stream",
     "text": [
      "{'Sally': 1345, 'Bob': 1286, 'Martha': 1453, 'Dirk': 1119}\n"
     ]
    }
   ],
   "source": [
    "names = ['Sally', 'Bob', 'Martha', 'Dirk']\n",
    "employee_ids = [345, 286, 453, 119]\n",
    "id_dict = { name: emp_id + 1000\n",
    "                   for name, emp_id in zip(names, employee_ids)}\n",
    "print(id_dict)"
   ]
  },
  {
   "cell_type": "code",
   "execution_count": 111,
   "metadata": {},
   "outputs": [
    {
     "name": "stdout",
     "output_type": "stream",
     "text": [
      "{'foo': 4, 'bar': -1, 'baz': -1, 'blah': 3, 'what': 2}\n"
     ]
    }
   ],
   "source": [
    "d = { 'foo': 4, 'bar': -1, 'baz': -1, 'blah': 3, 'what': 2 }\n",
    "print(d)"
   ]
  },
  {
   "cell_type": "code",
   "execution_count": 112,
   "metadata": {},
   "outputs": [
    {
     "data": {
      "text/plain": [
       "dict_items([('foo', 4), ('bar', -1), ('baz', -1), ('blah', 3), ('what', 2)])"
      ]
     },
     "execution_count": 112,
     "metadata": {},
     "output_type": "execute_result"
    }
   ],
   "source": [
    "d.items()"
   ]
  },
  {
   "cell_type": "code",
   "execution_count": 113,
   "metadata": {},
   "outputs": [
    {
     "name": "stdout",
     "output_type": "stream",
     "text": [
      "{'foo': 4, 'blah': 3, 'what': 2}\n"
     ]
    }
   ],
   "source": [
    "d = { key: val for key, val in d.items()\n",
    "               if val != -1 }\n",
    "print(d)"
   ]
  },
  {
   "cell_type": "code",
   "execution_count": 114,
   "metadata": {},
   "outputs": [],
   "source": [
    "id_dict_inverse = { val : key for key, val in id_dict.items() }"
   ]
  },
  {
   "cell_type": "code",
   "execution_count": 115,
   "metadata": {},
   "outputs": [
    {
     "data": {
      "text/plain": [
       "{1345: 'Sally', 1286: 'Bob', 1453: 'Martha', 1119: 'Dirk'}"
      ]
     },
     "execution_count": 115,
     "metadata": {},
     "output_type": "execute_result"
    }
   ],
   "source": [
    "id_dict_inverse"
   ]
  },
  {
   "cell_type": "markdown",
   "metadata": {
    "slideshow": {
     "slide_type": "subslide"
    }
   },
   "source": [
    "## Now we understand this code!"
   ]
  },
  {
   "cell_type": "code",
   "execution_count": 116,
   "metadata": {},
   "outputs": [
    {
     "name": "stdout",
     "output_type": "stream",
     "text": [
      "The Zen of Python, by Tim Peters\n",
      "\n",
      "Beautiful is better than ugly.\n",
      "Explicit is better than implicit.\n",
      "Simple is better than complex.\n",
      "Complex is better than complicated.\n",
      "Flat is better than nested.\n",
      "Sparse is better than dense.\n"
     ]
    }
   ],
   "source": [
    "s = \"\"\"Gur Mra bs Clguba, ol Gvz Crgref\n",
    "\n",
    "Ornhgvshy vf orggre guna htyl.\n",
    "Rkcyvpvg vf orggre guna vzcyvpvg.\n",
    "Fvzcyr vf orggre guna pbzcyrk.\n",
    "Pbzcyrk vf orggre guna pbzcyvpngrq.\n",
    "Syng vf orggre guna arfgrq.\n",
    "Fcnefr vf orggre guna qrafr.\"\"\"\n",
    "\n",
    "d = {}\n",
    "for c in (65, 97):\n",
    "    for i in range(26):\n",
    "        d[chr(i+c)] = chr((i+13) % 26 + c)\n",
    "\n",
    "print(\"\".join([d.get(c, c) for c in s]))"
   ]
  },
  {
   "cell_type": "markdown",
   "metadata": {
    "slideshow": {
     "slide_type": "slide"
    }
   },
   "source": [
    "# Sets"
   ]
  },
  {
   "cell_type": "markdown",
   "metadata": {
    "slideshow": {
     "slide_type": "subslide"
    }
   },
   "source": [
    "## Sets\n",
    "* unordered collection, no duplicates\n",
    "* kind of a one-trick pony–remove duplicates"
   ]
  },
  {
   "cell_type": "code",
   "execution_count": 120,
   "metadata": {
    "scrolled": true
   },
   "outputs": [
    {
     "name": "stdout",
     "output_type": "stream",
     "text": [
      "{'Annie', 'Betty', 'Donna', 'Cathy'}\n"
     ]
    }
   ],
   "source": [
    "s = { 'Annie', 'Betty', 'Cathy', 'Donna' }\n",
    "print(s)"
   ]
  },
  {
   "cell_type": "code",
   "execution_count": 121,
   "metadata": {},
   "outputs": [
    {
     "name": "stdout",
     "output_type": "stream",
     "text": [
      "{'Cathy', 'Ellen', 'Donna', 'Annie', 'Betty'}\n"
     ]
    }
   ],
   "source": [
    "s.add('Ellen')\n",
    "print(s)"
   ]
  },
  {
   "cell_type": "code",
   "execution_count": 123,
   "metadata": {},
   "outputs": [
    {
     "name": "stdout",
     "output_type": "stream",
     "text": [
      "{'Cathy', 'Ellen', 'Donna', 'Annie', 'Betty'}\n"
     ]
    }
   ],
   "source": [
    "s.add('Annie')\n",
    "print(s)"
   ]
  },
  {
   "cell_type": "code",
   "execution_count": 124,
   "metadata": {},
   "outputs": [
    {
     "name": "stdout",
     "output_type": "stream",
     "text": [
      "Yep!\n"
     ]
    }
   ],
   "source": [
    "# we can use the 'in' operator\n",
    "if 'Annie' in s:\n",
    "    print('Yep!')"
   ]
  },
  {
   "cell_type": "markdown",
   "metadata": {
    "slideshow": {
     "slide_type": "subslide"
    }
   },
   "source": [
    "## Deleting from a Set\n",
    "* __`remove(item)`__: remove an item if it's in the set\n",
    "* __`discard(item)`__: remove an item whether or not it's in the set\n",
    "* __`pop()`__: pops a random element out of the set"
   ]
  },
  {
   "cell_type": "code",
   "execution_count": 125,
   "metadata": {},
   "outputs": [
    {
     "name": "stdout",
     "output_type": "stream",
     "text": [
      "{'Cathy', 'Ellen', 'Donna', 'Annie', 'Betty'}\n"
     ]
    }
   ],
   "source": [
    "print(s)"
   ]
  },
  {
   "cell_type": "code",
   "execution_count": 127,
   "metadata": {},
   "outputs": [
    {
     "ename": "KeyError",
     "evalue": "'Betty'",
     "output_type": "error",
     "traceback": [
      "\u001b[0;31m---------------------------------------------------------------------------\u001b[0m",
      "\u001b[0;31mKeyError\u001b[0m                                  Traceback (most recent call last)",
      "\u001b[0;32m<ipython-input-127-227f5400e5eb>\u001b[0m in \u001b[0;36m<module>\u001b[0;34m\u001b[0m\n\u001b[0;32m----> 1\u001b[0;31m \u001b[0ms\u001b[0m\u001b[0;34m.\u001b[0m\u001b[0mremove\u001b[0m\u001b[0;34m(\u001b[0m\u001b[0;34m'Betty'\u001b[0m\u001b[0;34m)\u001b[0m\u001b[0;34m\u001b[0m\u001b[0;34m\u001b[0m\u001b[0m\n\u001b[0m",
      "\u001b[0;31mKeyError\u001b[0m: 'Betty'"
     ]
    }
   ],
   "source": [
    "s.remove('Betty')"
   ]
  },
  {
   "cell_type": "code",
   "execution_count": 128,
   "metadata": {},
   "outputs": [
    {
     "name": "stdout",
     "output_type": "stream",
     "text": [
      "{'Cathy', 'Ellen', 'Donna', 'Annie'}\n"
     ]
    }
   ],
   "source": [
    "print(s)"
   ]
  },
  {
   "cell_type": "code",
   "execution_count": 130,
   "metadata": {},
   "outputs": [],
   "source": [
    "s.discard('Loren')"
   ]
  },
  {
   "cell_type": "code",
   "execution_count": 131,
   "metadata": {},
   "outputs": [
    {
     "name": "stdout",
     "output_type": "stream",
     "text": [
      "{'Cathy', 'Ellen', 'Donna', 'Annie'}\n"
     ]
    }
   ],
   "source": [
    "print(s)"
   ]
  },
  {
   "cell_type": "code",
   "execution_count": 132,
   "metadata": {},
   "outputs": [
    {
     "name": "stdout",
     "output_type": "stream",
     "text": [
      "Cathy\n",
      "{'Ellen', 'Donna', 'Annie'}\n"
     ]
    }
   ],
   "source": [
    "print(s.pop())\n",
    "print(s)"
   ]
  },
  {
   "cell_type": "code",
   "execution_count": 133,
   "metadata": {},
   "outputs": [
    {
     "name": "stdout",
     "output_type": "stream",
     "text": [
      "Ellen\n",
      "Donna\n",
      "Annie\n"
     ]
    }
   ],
   "source": [
    "while s: # while the set is non-empty\n",
    "    print(s.pop())"
   ]
  },
  {
   "cell_type": "markdown",
   "metadata": {
    "slideshow": {
     "slide_type": "subslide"
    }
   },
   "source": [
    "## sets (cont'd)"
   ]
  },
  {
   "cell_type": "code",
   "execution_count": 134,
   "metadata": {},
   "outputs": [
    {
     "name": "stdout",
     "output_type": "stream",
     "text": [
      "{2, 4, 6, 8, 10}\n",
      "{1, 3, 5, 7, 9}\n"
     ]
    }
   ],
   "source": [
    "even = set(range(2, 11, 2))\n",
    "odd = set(range(1, 10, 2))\n",
    "print(even, odd, sep='\\n')"
   ]
  },
  {
   "cell_type": "code",
   "execution_count": 135,
   "metadata": {},
   "outputs": [
    {
     "data": {
      "text/plain": [
       "{3, 5, 7}"
      ]
     },
     "execution_count": 135,
     "metadata": {},
     "output_type": "execute_result"
    }
   ],
   "source": [
    "prime = {2, 3, 5, 7}\n",
    "prime & odd"
   ]
  },
  {
   "cell_type": "code",
   "execution_count": 136,
   "metadata": {},
   "outputs": [
    {
     "data": {
      "text/plain": [
       "{2}"
      ]
     },
     "execution_count": 136,
     "metadata": {},
     "output_type": "execute_result"
    }
   ],
   "source": [
    "prime & even"
   ]
  },
  {
   "cell_type": "code",
   "execution_count": 137,
   "metadata": {},
   "outputs": [
    {
     "data": {
      "text/plain": [
       "{1, 2, 3, 4, 5, 6, 7, 8, 9, 10}"
      ]
     },
     "execution_count": 137,
     "metadata": {},
     "output_type": "execute_result"
    }
   ],
   "source": [
    "odd | even"
   ]
  },
  {
   "cell_type": "code",
   "execution_count": 138,
   "metadata": {},
   "outputs": [
    {
     "data": {
      "text/plain": [
       "{3, 5, 7}"
      ]
     },
     "execution_count": 138,
     "metadata": {},
     "output_type": "execute_result"
    }
   ],
   "source": [
    "prime - even"
   ]
  },
  {
   "cell_type": "code",
   "execution_count": 139,
   "metadata": {},
   "outputs": [
    {
     "data": {
      "text/plain": [
       "{1, 2, 9}"
      ]
     },
     "execution_count": 139,
     "metadata": {},
     "output_type": "execute_result"
    }
   ],
   "source": [
    "prime ^ odd"
   ]
  },
  {
   "cell_type": "markdown",
   "metadata": {
    "slideshow": {
     "slide_type": "subslide"
    }
   },
   "source": [
    "## sets + dicts"
   ]
  },
  {
   "cell_type": "code",
   "execution_count": null,
   "metadata": {},
   "outputs": [],
   "source": [
    "movies = {\n",
    "    'Die Hard': { 'Bruce Willis', 'Alan Rickman', 'Bonnie Bedelia' },\n",
    "    'The Sixth Sense' : { 'Toni Collete', 'Bruce Willis', 'Donnie Wahlberg' },\n",
    "    'The Hunt for Red October' : { 'Sean Connery', 'Alec Baldwin' },\n",
    "    'The Highlander': { 'Christopher Lambert', 'Sean Connery' },\n",
    "    '16 Blocks': { 'Bruce Willis', ' Yasiin Bey', 'David Morse' }\n",
    "}"
   ]
  },
  {
   "cell_type": "code",
   "execution_count": null,
   "metadata": {},
   "outputs": [],
   "source": [
    "for title, stars in movies.items():\n",
    "    if 'Bruce Willis' in stars:\n",
    "        print(title)"
   ]
  },
  {
   "cell_type": "code",
   "execution_count": null,
   "metadata": {},
   "outputs": [],
   "source": [
    "for title, stars in movies.items():\n",
    "    if stars & { 'Alan Rickman', 'Sean Connery' }:\n",
    "        print(title)"
   ]
  },
  {
   "cell_type": "markdown",
   "metadata": {
    "slideshow": {
     "slide_type": "subslide"
    }
   },
   "source": [
    "## Subsets"
   ]
  },
  {
   "cell_type": "code",
   "execution_count": null,
   "metadata": {},
   "outputs": [],
   "source": [
    "set1 = { 1, 2, 3 }\n",
    "set2 = { 1, 2, 3, 5, 7, 9 }"
   ]
  },
  {
   "cell_type": "code",
   "execution_count": null,
   "metadata": {},
   "outputs": [],
   "source": [
    "set1 <= set2 # <= means \"subset\""
   ]
  },
  {
   "cell_type": "code",
   "execution_count": null,
   "metadata": {},
   "outputs": [],
   "source": [
    "set1 <= set1 # a set is always a subset of itself"
   ]
  },
  {
   "cell_type": "code",
   "execution_count": null,
   "metadata": {},
   "outputs": [],
   "source": [
    "set1 < set1 # but a set is never a proper subset of itself"
   ]
  },
  {
   "cell_type": "code",
   "execution_count": null,
   "metadata": {},
   "outputs": [],
   "source": [
    "set1 < set2 # set1 is a proper subset of set2 because set2 has all of set1 *and more*"
   ]
  },
  {
   "cell_type": "markdown",
   "metadata": {
    "slideshow": {
     "slide_type": "subslide"
    }
   },
   "source": [
    "## Lab: Sets\n",
    "* Use a set to find all of the unique words in the input and print them out in sorted order\n",
    "* If the user entered __There is no there there__, your program should print out \n",
    "   <pre><b>\n",
    "   is\n",
    "   no\n",
    "   there\n",
    "   </b></pre>\n",
    "* Note that `There` and `there` should be counted as the same word."
   ]
  },
  {
   "cell_type": "markdown",
   "metadata": {
    "slideshow": {
     "slide_type": "subslide"
    }
   },
   "source": [
    "## Sets Recap\n",
    "* unordered\n",
    "* no duplicates\n",
    "* operators &, |, -, ^\n",
    "* use __`in`__ to test for membership\n",
    "* subset vs. proper subset\n",
    "\n"
   ]
  },
  {
   "cell_type": "markdown",
   "metadata": {
    "slideshow": {
     "slide_type": "slide"
    }
   },
   "source": [
    "# File I/O"
   ]
  },
  {
   "cell_type": "markdown",
   "metadata": {
    "slideshow": {
     "slide_type": "subslide"
    }
   },
   "source": [
    "## File I/O\n",
    "* __`fileobj = open(filename, mode)`__\n",
    "* mode is one or two letters\n",
    "  * r = read\n",
    "  * r+ = open for reading and writing\n",
    "  * w = write (create/overwrite)\n",
    "  * x = write, but only if file does not already exist\n",
    "  * a = append, if file exists (unless a+, then create)\n",
    "* second letter =\n",
    "  * t = text file (default)\n",
    "  * b = binary\n",
    "* __`fileobj.close()`__"
   ]
  },
  {
   "cell_type": "markdown",
   "metadata": {
    "slideshow": {
     "slide_type": "subslide"
    }
   },
   "source": [
    "## File I/O: Open/Close"
   ]
  },
  {
   "cell_type": "code",
   "execution_count": 141,
   "metadata": {},
   "outputs": [
    {
     "ename": "FileNotFoundError",
     "evalue": "[Errno 2] No such file or directory: 'test.txt'",
     "output_type": "error",
     "traceback": [
      "\u001b[0;31m---------------------------------------------------------------------------\u001b[0m",
      "\u001b[0;31mFileNotFoundError\u001b[0m                         Traceback (most recent call last)",
      "\u001b[0;32m<ipython-input-141-9f3bddd907fb>\u001b[0m in \u001b[0;36m<module>\u001b[0;34m\u001b[0m\n\u001b[0;32m----> 1\u001b[0;31m \u001b[0mf\u001b[0m \u001b[0;34m=\u001b[0m \u001b[0mopen\u001b[0m\u001b[0;34m(\u001b[0m\u001b[0;34m'test.txt'\u001b[0m\u001b[0;34m,\u001b[0m \u001b[0;34m'r'\u001b[0m\u001b[0;34m)\u001b[0m\u001b[0;34m\u001b[0m\u001b[0;34m\u001b[0m\u001b[0m\n\u001b[0m",
      "\u001b[0;31mFileNotFoundError\u001b[0m: [Errno 2] No such file or directory: 'test.txt'"
     ]
    }
   ],
   "source": [
    "f = open('test.txt', 'r')"
   ]
  },
  {
   "cell_type": "code",
   "execution_count": 142,
   "metadata": {},
   "outputs": [],
   "source": [
    "f = open('test.txt', 'w')\n",
    "f.close()"
   ]
  },
  {
   "cell_type": "code",
   "execution_count": 145,
   "metadata": {},
   "outputs": [
    {
     "name": "stdout",
     "output_type": "stream",
     "text": [
      "-rw-r--r--  1 dws  staff  0 Oct 28 08:23 test.txt\r\n"
     ]
    }
   ],
   "source": [
    "!ls -l test.txt"
   ]
  },
  {
   "cell_type": "code",
   "execution_count": 146,
   "metadata": {},
   "outputs": [
    {
     "ename": "FileExistsError",
     "evalue": "[Errno 17] File exists: 'test.txt'",
     "output_type": "error",
     "traceback": [
      "\u001b[0;31m---------------------------------------------------------------------------\u001b[0m",
      "\u001b[0;31mFileExistsError\u001b[0m                           Traceback (most recent call last)",
      "\u001b[0;32m<ipython-input-146-054de7a5361e>\u001b[0m in \u001b[0;36m<module>\u001b[0;34m\u001b[0m\n\u001b[0;32m----> 1\u001b[0;31m \u001b[0mf\u001b[0m \u001b[0;34m=\u001b[0m \u001b[0mopen\u001b[0m\u001b[0;34m(\u001b[0m\u001b[0;34m'test.txt'\u001b[0m\u001b[0;34m,\u001b[0m \u001b[0;34m'x'\u001b[0m\u001b[0;34m)\u001b[0m\u001b[0;34m\u001b[0m\u001b[0;34m\u001b[0m\u001b[0m\n\u001b[0m",
      "\u001b[0;31mFileExistsError\u001b[0m: [Errno 17] File exists: 'test.txt'"
     ]
    }
   ],
   "source": [
    "f = open('test.txt', 'x')"
   ]
  },
  {
   "cell_type": "markdown",
   "metadata": {
    "slideshow": {
     "slide_type": "subslide"
    }
   },
   "source": [
    "## File I/O: Read/Write"
   ]
  },
  {
   "cell_type": "code",
   "execution_count": 147,
   "metadata": {},
   "outputs": [
    {
     "data": {
      "text/plain": [
       "729"
      ]
     },
     "execution_count": 147,
     "metadata": {},
     "output_type": "execute_result"
    }
   ],
   "source": [
    "poem = \"\"\"TWO roads diverged in a yellow wood,\n",
    "And sorry I could not travel both\n",
    "And be one traveler, long I stood\n",
    "And looked down one as far as I could\n",
    "To where it bent in the undergrowth;\n",
    "\n",
    "Then took the other, as just as fair,\n",
    "And having perhaps the better claim,\n",
    "Because it was grassy and wanted wear;\n",
    "Though as for that the passing there\n",
    "Had worn them really about the same,\n",
    "\n",
    "And both that morning equally lay\n",
    "In leaves no step had trodden black.\n",
    "Oh, I kept the first for another day!\n",
    "Yet knowing how way leads on to way,\n",
    "I doubted if I should ever come back.\n",
    "\n",
    "I shall be telling this with a sigh\n",
    "Somewhere ages and ages hence:\n",
    "Two roads diverged in a wood, and I—\n",
    "I took the one less traveled by,\n",
    "And that has made all the difference.\"\"\"\n",
    "\n",
    "len(poem)"
   ]
  },
  {
   "cell_type": "code",
   "execution_count": 148,
   "metadata": {},
   "outputs": [
    {
     "data": {
      "text/plain": [
       "729"
      ]
     },
     "execution_count": 148,
     "metadata": {},
     "output_type": "execute_result"
    }
   ],
   "source": [
    "f = open('poem.txt', 'w')\n",
    "f.write(poem)"
   ]
  },
  {
   "cell_type": "code",
   "execution_count": 149,
   "metadata": {},
   "outputs": [],
   "source": [
    "f.close()"
   ]
  },
  {
   "cell_type": "code",
   "execution_count": 150,
   "metadata": {},
   "outputs": [],
   "source": [
    "f = open('poem.txt')\n",
    "poem2 = f.read()\n",
    "f.close()"
   ]
  },
  {
   "cell_type": "code",
   "execution_count": 151,
   "metadata": {},
   "outputs": [
    {
     "data": {
      "text/plain": [
       "True"
      ]
     },
     "execution_count": 151,
     "metadata": {},
     "output_type": "execute_result"
    }
   ],
   "source": [
    "poem == poem2"
   ]
  },
  {
   "cell_type": "markdown",
   "metadata": {
    "slideshow": {
     "slide_type": "subslide"
    }
   },
   "source": [
    "## File I/O: __`write()`__ vs. __`print()`__\n"
   ]
  },
  {
   "cell_type": "code",
   "execution_count": 160,
   "metadata": {},
   "outputs": [],
   "source": [
    "f = open('poem.txt', 'w')\n",
    "# another example of why print being a function is good\n",
    "print(poem, file=f) \n",
    "f.close()"
   ]
  },
  {
   "cell_type": "code",
   "execution_count": 157,
   "metadata": {},
   "outputs": [],
   "source": [
    "f = open('poem.txt')\n",
    "poem2 = f.read()\n",
    "f.close()"
   ]
  },
  {
   "cell_type": "code",
   "execution_count": 158,
   "metadata": {},
   "outputs": [
    {
     "data": {
      "text/plain": [
       "True"
      ]
     },
     "execution_count": 158,
     "metadata": {},
     "output_type": "execute_result"
    }
   ],
   "source": [
    "poem == poem2"
   ]
  },
  {
   "cell_type": "code",
   "execution_count": 159,
   "metadata": {},
   "outputs": [
    {
     "data": {
      "text/plain": [
       "729"
      ]
     },
     "execution_count": 159,
     "metadata": {},
     "output_type": "execute_result"
    }
   ],
   "source": [
    "len(poem2)"
   ]
  },
  {
   "cell_type": "markdown",
   "metadata": {
    "slideshow": {
     "slide_type": "subslide"
    }
   },
   "source": [
    "## __`print(*objects, sep=' ', end='\\n', file=sys.stdout, flush=False)`__\n",
    "* __`sep`__ = separator (default is space)\n",
    "* __`end`__ = what to print at end (default is newline)\n",
    "* __`file`__ = where to print, default is screen\n",
    "* __`flush`__ = whether to flush output buffer, default is no"
   ]
  },
  {
   "cell_type": "markdown",
   "metadata": {
    "slideshow": {
     "slide_type": "subslide"
    }
   },
   "source": [
    "## File I/O: How to Read Data\n",
    "* __`read()`__: slurps up entire file at once\n",
    "  * __`read(x)`__ reads a most __`x`__ bytes\n",
    "* __`readline()`__: reads a line at a time\n",
    "* __`readlines()`__ reads a line at a time and returns the lines as a list of strings\n",
    "* or use an iterator…"
   ]
  },
  {
   "cell_type": "code",
   "execution_count": 167,
   "metadata": {},
   "outputs": [],
   "source": [
    "poem = ''\n",
    "f = open('poem.txt')\n",
    "for line in f: # Python reads each line\n",
    "    poem += line\n",
    "f.close()"
   ]
  },
  {
   "cell_type": "code",
   "execution_count": 168,
   "metadata": {},
   "outputs": [
    {
     "name": "stdout",
     "output_type": "stream",
     "text": [
      "TWO roads diverged in a yellow wood,\n",
      "And sorry I could not travel both\n",
      "And be one traveler, long I stood\n",
      "And looked down one as far as I could\n",
      "To where it bent in the undergrowth;\n",
      "\n",
      "Then took the other, as just as fair,\n",
      "And having perhaps the better claim,\n",
      "Because it was grassy and wanted wear;\n",
      "Though as for that the passing there\n",
      "Had worn them really about the same,\n",
      "\n",
      "And both that morning equally lay\n",
      "In leaves no step had trodden black.\n",
      "Oh, I kept the first for another day!\n",
      "Yet knowing how way leads on to way,\n",
      "I doubted if I should ever come back.\n",
      "\n",
      "I shall be telling this with a sigh\n",
      "Somewhere ages and ages hence:\n",
      "Two roads diverged in a wood, and I—\n",
      "I took the one less traveled by,\n",
      "And that has made all the difference.\n",
      "\n"
     ]
    }
   ],
   "source": [
    "print(poem)"
   ]
  },
  {
   "cell_type": "markdown",
   "metadata": {
    "slideshow": {
     "slide_type": "subslide"
    }
   },
   "source": [
    "## File I/O: __`with`__ statement\n",
    "* the __`with`__ statement sets up a temporary \"context\" and closes the file automatically so we don't have to bother with closing it"
   ]
  },
  {
   "cell_type": "code",
   "execution_count": 178,
   "metadata": {
    "scrolled": true
   },
   "outputs": [
    {
     "name": "stdout",
     "output_type": "stream",
     "text": [
      "in with statement, f1.closed = False\n"
     ]
    }
   ],
   "source": [
    "with open('poem.txt') as f1: # ~ f1 = open('poem.txt')\n",
    "    poem2 = f1.read()\n",
    "    # at this point file is open\n",
    "    print('in with statement, f1.closed =', f1.closed)"
   ]
  },
  {
   "cell_type": "code",
   "execution_count": 173,
   "metadata": {},
   "outputs": [
    {
     "data": {
      "text/plain": [
       "True"
      ]
     },
     "execution_count": 173,
     "metadata": {},
     "output_type": "execute_result"
    }
   ],
   "source": [
    "poem == poem2"
   ]
  },
  {
   "cell_type": "code",
   "execution_count": 179,
   "metadata": {},
   "outputs": [
    {
     "data": {
      "text/plain": [
       "True"
      ]
     },
     "execution_count": 179,
     "metadata": {},
     "output_type": "execute_result"
    }
   ],
   "source": [
    "f1.closed"
   ]
  },
  {
   "cell_type": "markdown",
   "metadata": {
    "slideshow": {
     "slide_type": "subslide"
    }
   },
   "source": [
    "## Quick Lab: File I/O\n",
    "* write a Python program which prompts the user for a filename, then opens that file and writes the contents of the file to a new file, in reverse order, i.e.,\n",
    "\n",
    "<pre><b>\n",
    "    Original file       Reversed file\n",
    "    Line 1              Line 4\n",
    "    Line 2              Line 3\n",
    "    Line 3              Line 2\n",
    "    Line 4              Line 1\n",
    "</b></pre>"
   ]
  },
  {
   "cell_type": "markdown",
   "metadata": {
    "slideshow": {
     "slide_type": "subslide"
    }
   },
   "source": [
    "## Lab: File I/O + dicts\n",
    "* write a Python program to read a file and count the number of occurrences of each word in the file\n",
    "* use a __`dict`__, indexed by word, to count the occurrences\n",
    "* remember __`d.get(key)`__ will return __`None`__ if there is no such key in the dict (vs. __`d[key]`__ which will throw an exception) and also the __`in`__ operator\n",
    "  * or use a __`collections.defaultdict`__ if we've covered it\n",
    "* treat __The__ and __the__ as the same word when counting\n",
    "* print out words and counts, from most common to least common\n",
    "* EXTRA: remove punctuation, so __Hamlet,__ == __Hamlet__ # refer back to \"import this\"\n",
    "* Road Not Taken and Hamlet are in your materials"
   ]
  },
  {
   "cell_type": "markdown",
   "metadata": {
    "slideshow": {
     "slide_type": "subslide"
    }
   },
   "source": [
    "## File I/O: recap\n",
    "* __`open()`__ returns file object\n",
    "* __`close()`__ closes the file\n",
    "* __`read()`__ reads bytes\n",
    "* __`readline()`__ reads a line at a time\n",
    "* __`readlines()`__ reads all lines–shouldn't be used\n",
    "* can also iterate through a file object a line at a time\n",
    "* __`with`__ statement sets up a temporary context (block) for file I/O and automatically closes file when block is exited"
   ]
  },
  {
   "cell_type": "markdown",
   "metadata": {
    "slideshow": {
     "slide_type": "slide"
    }
   },
   "source": [
    "# End of Day 2"
   ]
  }
 ],
 "metadata": {
  "celltoolbar": "Slideshow",
  "kernelspec": {
   "display_name": "Python 3",
   "language": "python",
   "name": "python3"
  },
  "language_info": {
   "codemirror_mode": {
    "name": "ipython",
    "version": 3
   },
   "file_extension": ".py",
   "mimetype": "text/x-python",
   "name": "python",
   "nbconvert_exporter": "python",
   "pygments_lexer": "ipython3",
   "version": "3.9.0b5"
  }
 },
 "nbformat": 4,
 "nbformat_minor": 1
}
